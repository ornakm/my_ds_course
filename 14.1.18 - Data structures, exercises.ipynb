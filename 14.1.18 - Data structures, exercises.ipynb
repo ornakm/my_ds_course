{
 "cells": [
  {
   "cell_type": "markdown",
   "metadata": {},
   "source": [
    "## Data structures, Exercises"
   ]
  },
  {
   "cell_type": "markdown",
   "metadata": {},
   "source": [
    "### Exe 1."
   ]
  },
  {
   "cell_type": "code",
   "execution_count": 23,
   "metadata": {},
   "outputs": [
    {
     "name": "stdout",
     "output_type": "stream",
     "text": [
      "['Roei', 'Gil', 'Noam', 'Eyal']\n",
      "['Hava', 'Lia', 'Naomi', 'Noa']\n"
     ]
    }
   ],
   "source": [
    "boys=['Roei', 'Gil', 'Noam']\n",
    "girls=['Lia', 'Naomi', 'Noa']\n",
    "\n",
    "boys.append('Eyal')\n",
    "girls.insert(0, 'Hava')\n",
    "\n",
    "print(boys)\n",
    "print(girls)"
   ]
  },
  {
   "cell_type": "code",
   "execution_count": 24,
   "metadata": {},
   "outputs": [
    {
     "name": "stdout",
     "output_type": "stream",
     "text": [
      "Noa\n",
      "Roei\n",
      "['Gil', 'Noam']\n"
     ]
    }
   ],
   "source": [
    "bride=girls.pop(3)\n",
    "groom=boys.pop(0)\n",
    "boys.remove(\"Eyal\")  ### the remove method deletes a given object from the list, user cannot assign i'th place\n",
    "\n",
    "print(bride)\n",
    "print(groom)\n",
    "print(boys)\n"
   ]
  },
  {
   "cell_type": "code",
   "execution_count": 26,
   "metadata": {},
   "outputs": [
    {
     "name": "stdout",
     "output_type": "stream",
     "text": [
      "['Gil', 'Noam', 'Hava', 'Lia', 'Naomi']\n"
     ]
    }
   ],
   "source": [
    "names=boys+girls\n",
    "print(names)"
   ]
  },
  {
   "cell_type": "markdown",
   "metadata": {},
   "source": [
    "### Exe 2."
   ]
  },
  {
   "cell_type": "code",
   "execution_count": 27,
   "metadata": {},
   "outputs": [
    {
     "name": "stdout",
     "output_type": "stream",
     "text": [
      "['Guy', 44, True] ['Hagai', 48, True] ['danny', 45, True]\n"
     ]
    }
   ],
   "source": [
    "# sub_exe_1\n",
    "guy_chars=['Guy', 44, True]\n",
    "hagai_chars=['Hagai', 48, True]\n",
    "danny_chars=['danny', 45, True]\n",
    "\n",
    "print(guy_chars, hagai_chars, danny_chars)"
   ]
  },
  {
   "cell_type": "code",
   "execution_count": 28,
   "metadata": {},
   "outputs": [
    {
     "name": "stdout",
     "output_type": "stream",
     "text": [
      "['danny', 46, True]\n"
     ]
    }
   ],
   "source": [
    "# sub_exe_2\n",
    "danny_chars[1]=46\n",
    "print(danny_chars)"
   ]
  },
  {
   "cell_type": "code",
   "execution_count": 36,
   "metadata": {},
   "outputs": [
    {
     "name": "stdout",
     "output_type": "stream",
     "text": [
      "[['Guy', 44, True], ['Hagai', 48, True], ['danny', 46, True]]\n"
     ]
    }
   ],
   "source": [
    "# sub_exe_3\n",
    "guys=[guy_chars]+[hagai_chars]+[danny_chars]\n",
    "print(guys)"
   ]
  },
  {
   "cell_type": "code",
   "execution_count": 37,
   "metadata": {},
   "outputs": [
    {
     "name": "stdout",
     "output_type": "stream",
     "text": [
      "[['Guy', 44, True], ['Hagai', 48, True], ['danny', 46, True], ['Felix', 77, True]]\n"
     ]
    }
   ],
   "source": [
    "# sub_exe_4\n",
    "felix_chars=['Felix', 77, True]\n",
    "guys.append(felix_chars)\n",
    "print(guys)\n"
   ]
  },
  {
   "cell_type": "code",
   "execution_count": 40,
   "metadata": {},
   "outputs": [
    {
     "name": "stdout",
     "output_type": "stream",
     "text": [
      "[['Guy', 44, True], ['Hagai', 48, True], ['danny', 46, True], ['Felix', 78, True]]\n"
     ]
    }
   ],
   "source": [
    "# sub_exe_5\n",
    "guys[3]=['Felix', 78, True]\n",
    "print(guys)"
   ]
  },
  {
   "cell_type": "code",
   "execution_count": 48,
   "metadata": {},
   "outputs": [
    {
     "name": "stdout",
     "output_type": "stream",
     "text": [
      "[['Guy', 44, True], ['danny', 46, True], ['Felix', 78, True]]\n"
     ]
    }
   ],
   "source": [
    "# sub_exe_6\n",
    "guys.remove(['Hagai', 48, True])\n",
    "print(guys)"
   ]
  },
  {
   "cell_type": "code",
   "execution_count": 49,
   "metadata": {},
   "outputs": [
    {
     "name": "stdout",
     "output_type": "stream",
     "text": [
      "[['Guy', 44, True], ['Felix', 78, True]]\n"
     ]
    }
   ],
   "source": [
    "guys.pop(1)\n",
    "print(guys)"
   ]
  },
  {
   "cell_type": "markdown",
   "metadata": {},
   "source": [
    "## Exe 3."
   ]
  },
  {
   "cell_type": "code",
   "execution_count": 58,
   "metadata": {},
   "outputs": [
    {
     "name": "stdout",
     "output_type": "stream",
     "text": [
      "I\n",
      "wish\n",
      "I\n",
      "had\n",
      "tickets\n",
      "to\n",
      "Hamilton\n"
     ]
    }
   ],
   "source": [
    "# sub_exe 1+2\n",
    "sentence='I wish I had tickets to Hamilton'\n",
    "sep='\\n'\n",
    "print(sep.join(sentence.split()))\n"
   ]
  },
  {
   "cell_type": "code",
   "execution_count": 59,
   "metadata": {},
   "outputs": [
    {
     "name": "stdout",
     "output_type": "stream",
     "text": [
      "1\n"
     ]
    }
   ],
   "source": [
    "# sub_exe 3\n",
    "print(sentence.count('m'))"
   ]
  },
  {
   "cell_type": "code",
   "execution_count": 63,
   "metadata": {},
   "outputs": [
    {
     "name": "stdout",
     "output_type": "stream",
     "text": [
      "1\n"
     ]
    }
   ],
   "source": [
    "count_m=sum(1 for i in sentence if i=='m')\n",
    "print(count_m)"
   ]
  }
 ],
 "metadata": {
  "kernelspec": {
   "display_name": "Python 3",
   "language": "python",
   "name": "python3"
  },
  "language_info": {
   "codemirror_mode": {
    "name": "ipython",
    "version": 3
   },
   "file_extension": ".py",
   "mimetype": "text/x-python",
   "name": "python",
   "nbconvert_exporter": "python",
   "pygments_lexer": "ipython3",
   "version": "3.6.3"
  }
 },
 "nbformat": 4,
 "nbformat_minor": 2
}
