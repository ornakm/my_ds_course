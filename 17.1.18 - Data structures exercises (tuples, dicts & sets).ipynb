{
 "cells": [
  {
   "cell_type": "markdown",
   "metadata": {},
   "source": [
    "## 17.1.18 - Data structures exercises (Tuples, dicts & sets)"
   ]
  },
  {
   "cell_type": "markdown",
   "metadata": {},
   "source": [
    "### 1.3.2.  Exercise 1"
   ]
  },
  {
   "cell_type": "code",
   "execution_count": 14,
   "metadata": {},
   "outputs": [
    {
     "name": "stdout",
     "output_type": "stream",
     "text": [
      "{'L': ['levis', 'lee cooper', 'lord kitch'], 'M': ['mango', 'maya', 'mehamemet'], 'Z': ['zara', 'zebra', 'zehava']}\n",
      "{'L': ['levis', 'lee cooper', 'lord kitch', 'lori'], 'M': ['mango', 'maya', 'mehamemet', 'moti'], 'Z': ['zara', 'zebra', 'zehava', 'zina']}\n"
     ]
    }
   ],
   "source": [
    "dict_letter_word={\"L\": [\"levis\", \"lee cooper\", \"lord kitch\"],\n",
    "                 \"M\": [\"mango\", \"maya\", \"mehamemet\"],\n",
    "                 \"Z\": [\"zara\", \"zebra\", \"zehava\"]}\n",
    "print (dict_letter_word)\n",
    "\n",
    "dict_letter_word[\"L\"].append(\"lori\")\n",
    "dict_letter_word[\"M\"].append(\"moti\")\n",
    "dict_letter_word[\"Z\"].append(\"zina\")\n",
    "print (dict_letter_word)"
   ]
  },
  {
   "cell_type": "code",
   "execution_count": 16,
   "metadata": {},
   "outputs": [
    {
     "name": "stdout",
     "output_type": "stream",
     "text": [
      "{'L': ['levis', 'lee cooper', 'lord kitch', 'lori'], 'M': ['mango', 'maya', 'mehamemet', 'moti'], 'Z': ['zara', 'zebra', 'zehava', 'zina'], 'N': ['naya', 'nivea']}\n"
     ]
    }
   ],
   "source": [
    "dict_letter_word.update({\"N\":[\"naya\", \"nivea\"]})\n",
    "print(dict_letter_word)"
   ]
  },
  {
   "cell_type": "code",
   "execution_count": 17,
   "metadata": {},
   "outputs": [
    {
     "name": "stdout",
     "output_type": "stream",
     "text": [
      "{'L': ['levis', 'lee cooper', 'lord kitch', 'lori'], 'M': ['mango', 'maya', 'mehamemet', 'moti'], 'N': ['naya', 'nivea']}\n"
     ]
    }
   ],
   "source": [
    "dict_letter_word.pop(\"Z\")\n",
    "print(dict_letter_word)"
   ]
  },
  {
   "cell_type": "code",
   "execution_count": 18,
   "metadata": {},
   "outputs": [
    {
     "name": "stdout",
     "output_type": "stream",
     "text": [
      "dict_values([['levis', 'lee cooper', 'lord kitch', 'lori'], ['mango', 'maya', 'mehamemet', 'moti'], ['naya', 'nivea']])\n"
     ]
    }
   ],
   "source": [
    "print(dict_letter_word.values())"
   ]
  },
  {
   "cell_type": "markdown",
   "metadata": {},
   "source": [
    "### 1.3.3 Exercise 2"
   ]
  },
  {
   "cell_type": "code",
   "execution_count": 22,
   "metadata": {},
   "outputs": [
    {
     "name": "stdout",
     "output_type": "stream",
     "text": [
      "{'Spain': ['Madrid', 'Toledo'], 'France': ['Lion', 'Paris']}\n",
      "{'Egypt': ['Cairo', 'Alexandria'], 'Morocco': ['Rabat', 'Casablanca']}\n"
     ]
    }
   ],
   "source": [
    "Spain_cities=[\"Madrid\", \"Toledo\"]\n",
    "France_cities=['Lion', 'Paris']\n",
    "Egypt_cities=['Cairo', 'Alexandria']\n",
    "Morocco_cities=['Rabat', 'Casablanca']\n",
    "\n",
    "Europe={\"Spain\": Spain_cities, \"France\": France_cities}\n",
    "Africa={'Egypt': Egypt_cities, \"Morocco\": Morocco_cities}\n",
    "\n",
    "print(Europe)\n",
    "print(Africa)\n"
   ]
  },
  {
   "cell_type": "code",
   "execution_count": 24,
   "metadata": {},
   "outputs": [
    {
     "name": "stdout",
     "output_type": "stream",
     "text": [
      "{'Europe': {'Spain': ['Madrid', 'Toledo'], 'France': ['Lion', 'Paris']}, 'Africa': {'Egypt': ['Cairo', 'Alexandria'], 'Morocco': ['Rabat', 'Casablanca']}}\n"
     ]
    }
   ],
   "source": [
    "world_dict={\"Europe\": Europe, \"Africa\": Africa}\n",
    "print(world_dict)"
   ]
  },
  {
   "cell_type": "markdown",
   "metadata": {},
   "source": [
    "## ______________________________________________________________"
   ]
  },
  {
   "cell_type": "markdown",
   "metadata": {},
   "source": [
    "## Set Exercises"
   ]
  },
  {
   "cell_type": "markdown",
   "metadata": {},
   "source": [
    "### 1.4.3. Exe 1."
   ]
  },
  {
   "cell_type": "code",
   "execution_count": 30,
   "metadata": {},
   "outputs": [
    {
     "name": "stdout",
     "output_type": "stream",
     "text": [
      "12\n",
      "10\n"
     ]
    }
   ],
   "source": [
    "str1=\"hapoel\"\n",
    "str2=\"macabi\"\n",
    "str_full=str1+str2\n",
    "set_str_full=set(str_full)\n",
    "\n",
    "print (len(str_full))\n",
    "print (len(set_str_full))"
   ]
  },
  {
   "cell_type": "markdown",
   "metadata": {},
   "source": [
    "### 1.4.4. Exe 2."
   ]
  },
  {
   "cell_type": "code",
   "execution_count": 31,
   "metadata": {},
   "outputs": [
    {
     "name": "stdout",
     "output_type": "stream",
     "text": [
      "{'carl', 'fred', 'abe', 'dave', 'heinrich', 'ed', 'isabel', 'bob'}\n",
      "{'ed', 'abe', 'fred', 'gale'}\n",
      "{'jack', 'fred', 'abe', 'kent', 'gale', 'ed', 'bob'}\n",
      "{'carl', 'fred', 'jack', 'abe', 'dave', 'kent', 'heinrich', 'gale', 'ed', 'isabel', 'bob'}\n"
     ]
    }
   ],
   "source": [
    "# sub exe 1\n",
    "\n",
    "sunday_visitors=['abe', 'bob', 'carl', 'dave', 'ed', 'heinrich', 'isabel', 'abe', 'fred']\n",
    "monday_visitors=['abe', 'gale', 'ed', 'fred']\n",
    "tuesday_visitors=['ed', 'bob', 'jack', 'fred', 'abe', 'abe', 'jack', 'kent', 'gale']\n",
    "all_visitors=sunday_visitors+monday_visitors+tuesday_visitors\n",
    "\n",
    "set_sunday_visitors=set(sunday_visitors)\n",
    "set_monday_visitors=set(monday_visitors)\n",
    "set_tuesday_visitors=set(tuesday_visitors)\n",
    "set_all_visitors=set(all_visitors)\n",
    "\n",
    "print(set_sunday_visitors)\n",
    "print(set_monday_visitors)\n",
    "print(set_tuesday_visitors)\n",
    "print(set_all_visitors)"
   ]
  },
  {
   "cell_type": "code",
   "execution_count": 38,
   "metadata": {},
   "outputs": [
    {
     "data": {
      "text/plain": [
       "False"
      ]
     },
     "execution_count": 38,
     "metadata": {},
     "output_type": "execute_result"
    }
   ],
   "source": [
    "# sub exe 2\n",
    "\n",
    "set_sunday_visitors < (set_monday_visitors | set_tuesday_visitors)\n"
   ]
  },
  {
   "cell_type": "code",
   "execution_count": 39,
   "metadata": {},
   "outputs": [
    {
     "data": {
      "text/plain": [
       "True"
      ]
     },
     "execution_count": 39,
     "metadata": {},
     "output_type": "execute_result"
    }
   ],
   "source": [
    "set_monday_visitors < (set_sunday_visitors | set_tuesday_visitors)"
   ]
  },
  {
   "cell_type": "code",
   "execution_count": 40,
   "metadata": {},
   "outputs": [
    {
     "data": {
      "text/plain": [
       "False"
      ]
     },
     "execution_count": 40,
     "metadata": {},
     "output_type": "execute_result"
    }
   ],
   "source": [
    "set_tuesday_visitors < (set_monday_visitors | set_sunday_visitors)"
   ]
  },
  {
   "cell_type": "code",
   "execution_count": 41,
   "metadata": {
    "collapsed": true
   },
   "outputs": [],
   "source": [
    "# yes, all monday visitors had also visited on another day"
   ]
  },
  {
   "cell_type": "code",
   "execution_count": 44,
   "metadata": {},
   "outputs": [
    {
     "name": "stdout",
     "output_type": "stream",
     "text": [
      "{'ed', 'abe', 'fred'}\n",
      "{'ed', 'abe', 'fred', 'bob'}\n",
      "{'ed', 'abe', 'fred', 'gale'}\n"
     ]
    }
   ],
   "source": [
    "\n",
    "\n",
    "# sub exe 3\n",
    "\n",
    "# visitors that visited the museum on more than a single day\n",
    "\n",
    "print (set_sunday_visitors & set_monday_visitors)\n",
    "print (set_sunday_visitors & set_tuesday_visitors)\n",
    "print (set_monday_visitors & set_tuesday_visitors)\n",
    "\n"
   ]
  },
  {
   "cell_type": "code",
   "execution_count": 49,
   "metadata": {},
   "outputs": [
    {
     "name": "stdout",
     "output_type": "stream",
     "text": [
      "{'ed', 'abe', 'fred'}\n"
     ]
    }
   ],
   "source": [
    "# visited every day\n",
    "\n",
    "print (set_sunday_visitors & set_monday_visitors & set_tuesday_visitors)"
   ]
  },
  {
   "cell_type": "code",
   "execution_count": 57,
   "metadata": {},
   "outputs": [
    {
     "name": "stdout",
     "output_type": "stream",
     "text": [
      "{'kent', 'jack'}\n"
     ]
    }
   ],
   "source": [
    "# sub exe 4\n",
    "\n",
    "# visited only on tuesday\n",
    "\n",
    "print(set_tuesday_visitors - (set_sunday_visitors | set_monday_visitors))\n"
   ]
  },
  {
   "cell_type": "code",
   "execution_count": 64,
   "metadata": {},
   "outputs": [
    {
     "name": "stdout",
     "output_type": "stream",
     "text": [
      "{'dave', 'carl', 'heinrich', 'isabel'}\n"
     ]
    }
   ],
   "source": [
    "# sub exe 5\n",
    "\n",
    "# visited exactly one of the days sunday and monday - I'm not sure i understood the question ...\n",
    "\n",
    "print((set_sunday_visitors - (set_monday_visitors | set_tuesday_visitors)) |\n",
    "      (set_monday_visitors - (set_sunday_visitors | set_tuesday_visitors)))\n",
    "\n",
    "\n"
   ]
  }
 ],
 "metadata": {
  "kernelspec": {
   "display_name": "Python 3",
   "language": "python",
   "name": "python3"
  },
  "language_info": {
   "codemirror_mode": {
    "name": "ipython",
    "version": 3
   },
   "file_extension": ".py",
   "mimetype": "text/x-python",
   "name": "python",
   "nbconvert_exporter": "python",
   "pygments_lexer": "ipython3",
   "version": "3.6.3"
  }
 },
 "nbformat": 4,
 "nbformat_minor": 2
}
