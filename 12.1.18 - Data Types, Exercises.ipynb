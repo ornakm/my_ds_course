{
 "cells": [
  {
   "cell_type": "markdown",
   "metadata": {},
   "source": [
    "## Exercise 1"
   ]
  },
  {
   "cell_type": "code",
   "execution_count": 1,
   "metadata": {},
   "outputs": [
    {
     "name": "stdout",
     "output_type": "stream",
     "text": [
      "My height is 1.64 meters,\n",
      " my weight is 58.00 Kgs,\n",
      " and my BMI is 21.56\n"
     ]
    }
   ],
   "source": [
    "my_height_in_meter=1.64\n",
    "my_weight_in_kg=58\n",
    "bmi=my_weight_in_kg/(my_height_in_meter**2)\n",
    "print(\"My height is %.2f meters,\\n my weight is %.2f Kgs,\\n and my BMI is %.2f\" % (my_height_in_meter, my_weight_in_kg, bmi))"
   ]
  },
  {
   "cell_type": "markdown",
   "metadata": {},
   "source": [
    "## Exercise 2"
   ]
  },
  {
   "cell_type": "code",
   "execution_count": 2,
   "metadata": {},
   "outputs": [
    {
     "name": "stdout",
     "output_type": "stream",
     "text": [
      "11\n"
     ]
    }
   ],
   "source": [
    "# parts 1+2\n",
    "\n",
    "first_name='orna'\n",
    "last_name='marelly'\n",
    "\n",
    "len_first_name=len(first_name)\n",
    "len_last_name=len(last_name)\n",
    "len_full_name=len_first_name+len_last_name\n",
    "print(len_full_name)\n"
   ]
  },
  {
   "cell_type": "code",
   "execution_count": 21,
   "metadata": {},
   "outputs": [
    {
     "name": "stdout",
     "output_type": "stream",
     "text": [
      "OrnA mArEllY\n"
     ]
    }
   ],
   "source": [
    "# parts 3+4\n",
    "\n",
    "new_full_name=first_name+' '+last_name\n",
    "print(new_full_name.replace('o','O').replace('e','E').replace(\"a\",\"A\").replace(\"y\",\"Y\"))\n"
   ]
  },
  {
   "cell_type": "markdown",
   "metadata": {},
   "source": [
    "## Exercise 3"
   ]
  },
  {
   "cell_type": "code",
   "execution_count": 8,
   "metadata": {},
   "outputs": [
    {
     "name": "stdout",
     "output_type": "stream",
     "text": [
      "same city, True\n",
      "is_older, True\n",
      "diff_gender, True\n",
      "both_married, True\n"
     ]
    }
   ],
   "source": [
    "my_gender=\"female\"\n",
    "guy_gender=\"male\"\n",
    "my_age=40\n",
    "guy_age=44\n",
    "my_city=\"modiin\"\n",
    "guy_city=\"modiin\"\n",
    "my_marital_married=True\n",
    "guy_marital_married=True\n",
    "\n",
    "same_city=my_city==guy_city\n",
    "is_older=guy_age>my_age\n",
    "diff_gender=my_gender!=guy_gender\n",
    "both_married=my_marital_married==guy_marital_married\n",
    "\n",
    "print(\"same city,\", same_city)\n",
    "print(\"is_older,\", is_older)\n",
    "print(\"diff_gender,\", diff_gender)\n",
    "print(\"both_married,\", both_married)\n",
    "\n"
   ]
  },
  {
   "cell_type": "code",
   "execution_count": null,
   "metadata": {
    "collapsed": true
   },
   "outputs": [],
   "source": []
  }
 ],
 "metadata": {
  "kernelspec": {
   "display_name": "Python 3",
   "language": "python",
   "name": "python3"
  },
  "language_info": {
   "codemirror_mode": {
    "name": "ipython",
    "version": 3
   },
   "file_extension": ".py",
   "mimetype": "text/x-python",
   "name": "python",
   "nbconvert_exporter": "python",
   "pygments_lexer": "ipython3",
   "version": "3.6.3"
  }
 },
 "nbformat": 4,
 "nbformat_minor": 2
}
